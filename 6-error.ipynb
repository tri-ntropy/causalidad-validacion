{
 "cells": [
  {
   "cell_type": "markdown",
   "id": "552858c2-e596-46f3-abda-13878a3eac97",
   "metadata": {},
   "source": [
    "## Importación de bibliotecas"
   ]
  },
  {
   "cell_type": "code",
   "execution_count": 1,
   "id": "e22201e4-8b24-46e7-85a5-efa26342ae6f",
   "metadata": {},
   "outputs": [],
   "source": [
    "import numpy as np"
   ]
  },
  {
   "cell_type": "markdown",
   "id": "313d271f-3ddd-45c9-ba27-bf4fe8781394",
   "metadata": {},
   "source": [
    "## Ruta de archivos"
   ]
  },
  {
   "cell_type": "code",
   "execution_count": 2,
   "id": "599e5468-6cb2-4263-b0ca-d67dd1cc2189",
   "metadata": {},
   "outputs": [],
   "source": [
    "ruta = \"datos/caracter/\""
   ]
  },
  {
   "cell_type": "markdown",
   "id": "eaa471a1-2cfb-4cdb-94b4-c9ef4669eef6",
   "metadata": {},
   "source": [
    "## \"Metadatos\""
   ]
  },
  {
   "cell_type": "code",
   "execution_count": 3,
   "id": "5eec7340-d4d9-4564-8f72-35801be5f979",
   "metadata": {},
   "outputs": [],
   "source": [
    "modelos = [\"00\", \"01\", \"02\", \"03\", \"04\", \"05\"]\n",
    "casos = [\"xy\", \"yx\", \"xy-yx\", \"yx-xy\"]"
   ]
  },
  {
   "cell_type": "markdown",
   "id": "c4ac7f36-7bfb-4143-aee0-9f793bf6dde7",
   "metadata": {},
   "source": [
    "## Construcción del diccionario del error y promedio"
   ]
  },
  {
   "cell_type": "code",
   "execution_count": 4,
   "id": "54b56f7f-c9be-473b-b983-185f6b794034",
   "metadata": {},
   "outputs": [],
   "source": [
    "error = {}\n",
    "promedio = {}\n",
    "for m in modelos:\n",
    "    error[m] = {}\n",
    "    promedio[m] = {}\n",
    "    for c in casos:\n",
    "        error[m][c] = np.abs(np.loadtxt(ruta + \"error_\" + m + \"_\" + c + \".csv\")).max()\n",
    "        promedio[m][c] = np.abs(np.loadtxt(ruta + \"promedio_\" + m + \"_\" + c + \".csv\")).max()"
   ]
  },
  {
   "cell_type": "markdown",
   "id": "11af5a2d-4c9b-47d1-b7d6-b143fac36a4e",
   "metadata": {},
   "source": [
    "## Valores máximos del error"
   ]
  },
  {
   "cell_type": "code",
   "execution_count": 5,
   "id": "6ae28f66-df68-4a44-be4f-d85ca7b95415",
   "metadata": {},
   "outputs": [
    {
     "name": "stdout",
     "output_type": "stream",
     "text": [
      "00\n",
      "\txy:  0.00044681492\n",
      "\tyx:  0.00040103717\n",
      "\txy-yx:  0.00059087191\n",
      "\tyx-xy:  0.00059087191\n",
      "01\n",
      "\txy:  0.00290287913\n",
      "\tyx:  0.00290287913\n",
      "\txy-yx:  0.0\n",
      "\tyx-xy:  0.0\n",
      "02\n",
      "\txy:  0.00191383122\n",
      "\tyx:  0.0004404852\n",
      "\txy-yx:  0.00186786847\n",
      "\tyx-xy:  0.00186786847\n",
      "03\n",
      "\txy:  0.00196185683\n",
      "\tyx:  0.00056264693\n",
      "\txy-yx:  0.00187864282\n",
      "\tyx-xy:  0.00187864282\n",
      "04\n",
      "\txy:  0.00579296421\n",
      "\tyx:  0.00448387446\n",
      "\txy-yx:  0.0058391691\n",
      "\tyx-xy:  0.0058391691\n",
      "05\n",
      "\txy:  0.00403062109\n",
      "\tyx:  0.00257351103\n",
      "\txy-yx:  0.00380170613\n",
      "\tyx-xy:  0.00380170613\n",
      "\n",
      " Máximo error:  0.0058391691014968595\n"
     ]
    }
   ],
   "source": [
    "ve = np.empty(0)\n",
    "for m in modelos:\n",
    "    print(m)\n",
    "    for c in casos:\n",
    "        e = error[m][c]**0.5\n",
    "        print(\"\\t\" + c + \": \", np.around(e, decimals = 11))\n",
    "        ve = np.append(ve, e)\n",
    "\n",
    "print(\"\\n\", \"Máximo error: \", ve.max())"
   ]
  },
  {
   "cell_type": "markdown",
   "id": "238dbde8-5110-41a4-9998-7b146a597a40",
   "metadata": {},
   "source": [
    "## Porcentajes máximos del error respecto al valor promedio"
   ]
  },
  {
   "cell_type": "code",
   "execution_count": 6,
   "id": "30eb7736-2b5f-46e2-901a-c33cb661786a",
   "metadata": {},
   "outputs": [
    {
     "name": "stdout",
     "output_type": "stream",
     "text": [
      "00\n",
      "\txy:  4.982269908109286\n",
      "\tyx:  4.552325663385937\n",
      "\txy-yx:  42.805943830847326\n",
      "\tyx-xy:  42.805943830847326\n",
      "01\n",
      "\txy:  0.15591198793157288\n",
      "\tyx:  0.15591198793157288\n",
      "\txy-yx:  0\n",
      "\tyx-xy:  0\n",
      "02\n",
      "\txy:  0.10299736669223003\n",
      "\tyx:  5.039896272698852\n",
      "\txy-yx:  0.1009563208938401\n",
      "\tyx-xy:  0.1009563208938401\n",
      "03\n",
      "\txy:  0.2252228014653096\n",
      "\tyx:  6.343714892535381\n",
      "\txy-yx:  0.2177948025136399\n",
      "\tyx-xy:  0.2177948025136399\n",
      "04\n",
      "\txy:  0.31069264644432654\n",
      "\tyx:  0.5171736278926161\n",
      "\txy-yx:  0.3158777881610471\n",
      "\tyx-xy:  0.3158777881610471\n",
      "05\n",
      "\txy:  0.46474002195616027\n",
      "\tyx:  0.5612647603125116\n",
      "\txy-yx:  0.44351573068455763\n",
      "\tyx-xy:  0.44351573068455763\n",
      "\n",
      "Máximo % error:  42.805943830847326\n",
      "Máximo % error sin contar el outlier del experimento 00:  6.343714892535381\n"
     ]
    }
   ],
   "source": [
    "vpe = np.empty(0)\n",
    "for m in modelos:\n",
    "    print(m)\n",
    "    for c in casos:\n",
    "        e = error[m][c] ** 0.5\n",
    "        p = promedio[m][c]\n",
    "        if p == 0:\n",
    "            pe = 0\n",
    "        else:\n",
    "            pe = (100 * e) / p\n",
    "        print(\"\\t\" + c + \": \", pe)\n",
    "        vpe = np.append(vpe, pe)\n",
    "\n",
    "print(\"\")\n",
    "print(\"Máximo % error: \", vpe.max())\n",
    "print(\"Máximo % error sin contar el outlier del experimento 00: \", vpe[vpe < vpe.max()].max())"
   ]
  }
 ],
 "metadata": {
  "kernelspec": {
   "display_name": "Python 3 (ipykernel)",
   "language": "python",
   "name": "python3"
  },
  "language_info": {
   "codemirror_mode": {
    "name": "ipython",
    "version": 3
   },
   "file_extension": ".py",
   "mimetype": "text/x-python",
   "name": "python",
   "nbconvert_exporter": "python",
   "pygments_lexer": "ipython3",
   "version": "3.9.12"
  }
 },
 "nbformat": 4,
 "nbformat_minor": 5
}
