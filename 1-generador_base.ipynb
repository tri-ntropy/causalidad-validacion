{
 "cells": [
  {
   "cell_type": "markdown",
   "id": "160b82f0-8e28-4969-9e70-39d6de16efad",
   "metadata": {
    "tags": []
   },
   "source": [
    "# Generador de los datos base"
   ]
  },
  {
   "cell_type": "markdown",
   "id": "77404d17-5ab4-4d1e-9c42-2ecfddfea02f",
   "metadata": {},
   "source": [
    "## Importación de bibliotecas y módulos"
   ]
  },
  {
   "cell_type": "code",
   "execution_count": 1,
   "id": "f5021fab-b30b-434b-93ec-a22f1553903f",
   "metadata": {},
   "outputs": [],
   "source": [
    "from IPython import display\n",
    "import ipywidgets\n",
    "import numpy as np\n",
    "import seaborn as sns\n",
    "import matplotlib.pyplot as plt"
   ]
  },
  {
   "cell_type": "markdown",
   "id": "014b3193-8b6e-4eb0-b1d5-79c4b24d7ea7",
   "metadata": {},
   "source": [
    "### Opciones de graficación\n",
    "Estética de las gráficas"
   ]
  },
  {
   "cell_type": "code",
   "execution_count": 2,
   "id": "d44ce469-8208-4e37-b65f-9d38ebf0918c",
   "metadata": {},
   "outputs": [],
   "source": [
    "sns.set_style(\"darkgrid\")                  \n",
    "sns.set_context(\"paper\", font_scale = 1.6)  # Tamaño de fuente en el contexto de un \"paper\""
   ]
  },
  {
   "cell_type": "markdown",
   "id": "8b60f910-7eb5-4d4b-aa5e-9377ffae5cb7",
   "metadata": {},
   "source": [
    "## Parámetros"
   ]
  },
  {
   "cell_type": "markdown",
   "id": "c2ffea03-7bbc-433a-95a9-5ae8e00efa1b",
   "metadata": {},
   "source": [
    "Tiempo"
   ]
  },
  {
   "cell_type": "code",
   "execution_count": 3,
   "id": "21ad67c5-940d-4e9b-a834-653516e61605",
   "metadata": {},
   "outputs": [
    {
     "data": {
      "text/plain": [
       "2e-05"
      ]
     },
     "execution_count": 3,
     "metadata": {},
     "output_type": "execute_result"
    }
   ],
   "source": [
    "Lt = 1.0\n",
    "nt = 50_001\n",
    "t = np.linspace(0, Lt, nt)\n",
    "dt = t[1] - t[0]\n",
    "dt"
   ]
  },
  {
   "cell_type": "markdown",
   "id": "00a95b1a-6d3e-4f9e-a8cc-4100f79807b2",
   "metadata": {},
   "source": [
    "Arreglos de interés para la entropia de transferencia"
   ]
  },
  {
   "cell_type": "code",
   "execution_count": 4,
   "id": "4d7cb174-2c92-42fe-83ca-6b86f3576a52",
   "metadata": {},
   "outputs": [],
   "source": [
    "nt_ets = 100\n",
    "t_ets_pasos = np.linspace(1, nt_ets, nt_ets)\n",
    "t_ets = dt * t_ets_pasos"
   ]
  },
  {
   "cell_type": "markdown",
   "id": "0dd2b7be-eeb5-4d98-b8cc-9fc015e45314",
   "metadata": {
    "tags": []
   },
   "source": [
    "## Archivos"
   ]
  },
  {
   "cell_type": "code",
   "execution_count": 5,
   "id": "1789d6dc-6912-4ceb-aa09-138df72f8a56",
   "metadata": {},
   "outputs": [],
   "source": [
    "ruta = \"datos/base/\"\n",
    "\n",
    "# Archivos para las simulaciones\n",
    "np.savetxt(ruta + \"tiempo_simulacion.csv\", t)\n",
    "# Archivos para graficar la series de entropia de transferencia\n",
    "np.savetxt(ruta + \"pasos_ets.csv\", t_ets_pasos)\n",
    "np.savetxt(ruta + \"tiempo_ets.csv\", t_ets)"
   ]
  }
 ],
 "metadata": {
  "kernelspec": {
   "display_name": "Python 3 (ipykernel)",
   "language": "python",
   "name": "python3"
  },
  "language_info": {
   "codemirror_mode": {
    "name": "ipython",
    "version": 3
   },
   "file_extension": ".py",
   "mimetype": "text/x-python",
   "name": "python",
   "nbconvert_exporter": "python",
   "pygments_lexer": "ipython3",
   "version": "3.9.12"
  }
 },
 "nbformat": 4,
 "nbformat_minor": 5
}
